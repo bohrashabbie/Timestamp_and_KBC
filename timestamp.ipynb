{
 "cells": [
  {
   "cell_type": "markdown",
   "metadata": {},
   "source": [
    "## timestamp"
   ]
  },
  {
   "cell_type": "code",
   "execution_count": 14,
   "metadata": {},
   "outputs": [
    {
     "name": "stdout",
     "output_type": "stream",
     "text": [
      "Good morning\n"
     ]
    }
   ],
   "source": [
    "import time \n",
    "t = time.strftime('%H:%M:%S')\n",
    "hour = int(time.strftime('%H'))\n",
    "hour = int(input(\"enter hour\"))\n",
    "# print(hour)\n",
    "\n",
    "if(hour>=0 and hour<12):\n",
    "    print(\"Good morning\")\n",
    "elif(hour>=12 and hour<17):\n",
    "    print(\"good afternoon sir\")    \n",
    "if(hour>=17 and hour<0):\n",
    "    print(\"good night sir\")    "
   ]
  },
  {
   "cell_type": "markdown",
   "metadata": {},
   "source": [
    "## KBC\n",
    "create a program capable of displaying question to the user like kbc"
   ]
  },
  {
   "cell_type": "code",
   "execution_count": 18,
   "metadata": {},
   "outputs": [
    {
     "name": "stdout",
     "output_type": "stream",
     "text": [
      "questions for[1000, 2000, 3000, 4000]:\n",
      "What is the capital of India?\n",
      "1. New Delhi\n",
      "2. Mumbai\n",
      "3. Kolkata\n",
      "4. Chennai\n",
      "shi javab !! aap jeetete hai1000.\n",
      "\n",
      "questions for[1000, 2000, 3000, 4000]:\n",
      "Who is the current President of the USA?\n",
      "1. Donald Trump\n",
      "2. Joe Biden\n",
      "3. Barack Obama\n",
      "4. George Bush\n",
      "glt javab aapka safar yhi khtam hota hai\n",
      "thankyou for playing\n"
     ]
    }
   ],
   "source": [
    "def kbc():\n",
    "    questions = [\n",
    "    {\n",
    "            \"question\": \"What is the capital of India?\",\n",
    "            \"options\": [\"1. New Delhi\", \"2. Mumbai\", \"3. Kolkata\", \"4. Chennai\"],\n",
    "            \"answer\": 1\n",
    "        },\n",
    "        {\n",
    "            \"question\": \"Who is the current President of the USA?\",\n",
    "            \"options\": [\"1. Donald Trump\", \"2. Joe Biden\", \"3. Barack Obama\", \"4. George Bush\"],\n",
    "            \"answer\": 2\n",
    "        },\n",
    "        {\n",
    "            \"question\": \"Which is the largest planet in our Solar System?\",\n",
    "            \"options\": [\"1. Earth\", \"2. Mars\", \"3. Jupiter\", \"4. Saturn\"],\n",
    "            \"answer\": 3\n",
    "        },\n",
    "        {\n",
    "            \"question\": \"What is the boiling point of water?\",\n",
    "            \"options\": [\"1. 100°C\", \"2. 90°C\", \"3. 80°C\", \"4. 110°C\"],\n",
    "            \"answer\": 1\n",
    "        }\n",
    "    ]  \n",
    "    prize_money = [1000,2000,3000,4000] \n",
    "    for i, q in enumerate(questions):\n",
    "        print(f\"questions for{prize_money}:\")\n",
    "        print(q[\"question\"])\n",
    "        for option in q[\"options\"]:\n",
    "            print(option)\n",
    "        try:\n",
    "            ans = int(input(\"enter the answer from (1,4)\"))\n",
    "            if ans == q[\"answer\"]:\n",
    "                print(f\"shi javab !! aap jeetete hai{prize_money[i]}.\\n\")\n",
    "            else:\n",
    "                print(\"glt javab aapka safar yhi khtam hota hai\")\n",
    "                break\n",
    "        except ValueError:\n",
    "            print(\"invalid input\")\n",
    "            break\n",
    "        time.sleep(1)\n",
    "        \n",
    "    print(\"thankyou for playing\") \n",
    "if __name__ == \"__main__\":\n",
    "    kbc()   \n",
    "                    \n",
    "    "
   ]
  },
  {
   "cell_type": "code",
   "execution_count": null,
   "metadata": {},
   "outputs": [],
   "source": []
  }
 ],
 "metadata": {
  "kernelspec": {
   "display_name": "Python 3",
   "language": "python",
   "name": "python3"
  },
  "language_info": {
   "codemirror_mode": {
    "name": "ipython",
    "version": 3
   },
   "file_extension": ".py",
   "mimetype": "text/x-python",
   "name": "python",
   "nbconvert_exporter": "python",
   "pygments_lexer": "ipython3",
   "version": "3.10.11"
  }
 },
 "nbformat": 4,
 "nbformat_minor": 2
}
